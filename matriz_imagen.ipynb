{
 "cells": [
  {
   "cell_type": "code",
   "execution_count": null,
   "id": "e67eea4c-8931-49e8-9663-1e94e6967dbd",
   "metadata": {},
   "outputs": [],
   "source": [
    "# Importar la librería cv2\n",
    "import cv2 \n",
    "# Importar la librería numpy\n",
    "import numpy as np"
   ]
  },
  {
   "cell_type": "code",
   "execution_count": null,
   "id": "fda16bcf",
   "metadata": {},
   "outputs": [],
   "source": [
    "imagen = cv2.imread('carro.jpg')\n",
    "\n",
    "if imagen is not None:\n",
    "\n",
    "    matriz = np.array(imagen)\n",
    "\n",
    "    print(\"Matriz de imagen solicitado:\")\n",
    "    print(matriz)\n",
    "else:\n",
    "    print(\"ERROR DE MATRIZ\")"
   ]
  }
 ],
 "metadata": {
  "kernelspec": {
   "display_name": "Python 3 (ipykernel)",
   "language": "python",
   "name": "python3"
  },
  "language_info": {
   "codemirror_mode": {
    "name": "ipython",
    "version": 3
   },
   "file_extension": ".py",
   "mimetype": "text/x-python",
   "name": "python",
   "nbconvert_exporter": "python",
   "pygments_lexer": "ipython3",
   "version": "3.11.9"
  }
 },
 "nbformat": 4,
 "nbformat_minor": 5
}
